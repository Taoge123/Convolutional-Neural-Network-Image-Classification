{
 "cells": [
  {
   "cell_type": "code",
   "execution_count": 1,
   "metadata": {},
   "outputs": [
    {
     "name": "stderr",
     "output_type": "stream",
     "text": [
      "Using TensorFlow backend.\n"
     ]
    }
   ],
   "source": [
    "# Convolutional Neural Network\n",
    "\n",
    "# Installing Theano\n",
    "# pip install --upgrade --no-deps git+git://github.com/Theano/Theano.git\n",
    "\n",
    "# Installing Tensorflow\n",
    "# pip install tensorflow\n",
    "\n",
    "# Installing Keras\n",
    "# pip install --upgrade keras\n",
    "\n",
    "# Part 1 - Building the CNN\n",
    "\n",
    "# Importing the Keras libraries and packages\n",
    "from keras.models import Sequential\n",
    "from keras.layers import Conv2D\n",
    "from keras.layers import MaxPooling2D\n",
    "from keras.layers import Flatten\n",
    "from keras.layers import Dense"
   ]
  },
  {
   "cell_type": "code",
   "execution_count": 2,
   "metadata": {
    "collapsed": true
   },
   "outputs": [],
   "source": [
    "# Initialising the CNN\n",
    "classifier = Sequential()"
   ]
  },
  {
   "cell_type": "code",
   "execution_count": 3,
   "metadata": {
    "collapsed": true
   },
   "outputs": [],
   "source": [
    "# Step 1 - Convolution\n",
    "classifier.add(Conv2D(32, (3, 3), input_shape = (64, 64, 3), activation = 'relu'))\n",
    "\n",
    "# Step 2 - Pooling\n",
    "classifier.add(MaxPooling2D(pool_size = (2, 2)))"
   ]
  },
  {
   "cell_type": "code",
   "execution_count": 4,
   "metadata": {
    "collapsed": true
   },
   "outputs": [],
   "source": [
    "# Adding a second convolutional layer\n",
    "classifier.add(Conv2D(32, (3, 3), activation = 'relu'))\n",
    "classifier.add(MaxPooling2D(pool_size = (2, 2)))"
   ]
  },
  {
   "cell_type": "code",
   "execution_count": 5,
   "metadata": {
    "collapsed": true
   },
   "outputs": [],
   "source": [
    "# Step 3 - Flattening\n",
    "classifier.add(Flatten())\n",
    "\n",
    "# Step 4 - Full connection\n",
    "classifier.add(Dense(units = 128, activation = 'relu'))\n",
    "classifier.add(Dense(units = 1, activation = 'sigmoid'))"
   ]
  },
  {
   "cell_type": "code",
   "execution_count": 6,
   "metadata": {
    "collapsed": true
   },
   "outputs": [],
   "source": [
    "# Compiling the CNN\n",
    "classifier.compile(optimizer = 'adam', loss = 'binary_crossentropy', metrics = ['accuracy'])"
   ]
  },
  {
   "cell_type": "code",
   "execution_count": 7,
   "metadata": {
    "collapsed": true
   },
   "outputs": [],
   "source": [
    "# Part 2 - Fitting the CNN to the images\n",
    "\n",
    "from keras.preprocessing.image import ImageDataGenerator"
   ]
  },
  {
   "cell_type": "code",
   "execution_count": 8,
   "metadata": {
    "collapsed": true
   },
   "outputs": [],
   "source": [
    "train_datagen = ImageDataGenerator(rescale = 1./255,\n",
    "                                   shear_range = 0.2,\n",
    "                                   zoom_range = 0.2,\n",
    "                                   horizontal_flip = True)\n",
    "\n",
    "test_datagen = ImageDataGenerator(rescale = 1./255)"
   ]
  },
  {
   "cell_type": "code",
   "execution_count": 9,
   "metadata": {},
   "outputs": [
    {
     "name": "stdout",
     "output_type": "stream",
     "text": [
      "Found 8000 images belonging to 2 classes.\n",
      "Found 2000 images belonging to 2 classes.\n"
     ]
    }
   ],
   "source": [
    "training_set = train_datagen.flow_from_directory('dataset/training_set',\n",
    "                                                 target_size = (64, 64),\n",
    "                                                 batch_size = 32,\n",
    "                                                 class_mode = 'binary')\n",
    "\n",
    "test_set = test_datagen.flow_from_directory('dataset/test_set',\n",
    "                                            target_size = (64, 64),\n",
    "                                            batch_size = 32,\n",
    "                                            class_mode = 'binary')"
   ]
  },
  {
   "cell_type": "code",
   "execution_count": 10,
   "metadata": {},
   "outputs": [
    {
     "name": "stdout",
     "output_type": "stream",
     "text": [
      "Epoch 1/25\n",
      "8000/8000 [==============================] - 5058s - loss: 0.3743 - acc: 0.8234 - val_loss: 0.5163 - val_acc: 0.8215\n",
      "Epoch 2/25\n",
      "8000/8000 [==============================] - 4101s - loss: 0.1379 - acc: 0.9458 - val_loss: 0.8082 - val_acc: 0.8005\n",
      "Epoch 3/25\n",
      "8000/8000 [==============================] - 4823s - loss: 0.0757 - acc: 0.9723 - val_loss: 0.9156 - val_acc: 0.8046\n",
      "Epoch 4/25\n",
      "8000/8000 [==============================] - 5152s - loss: 0.0553 - acc: 0.9804 - val_loss: 1.0691 - val_acc: 0.8082\n",
      "Epoch 5/25\n",
      "8000/8000 [==============================] - 52313s - loss: 0.0456 - acc: 0.9842 - val_loss: 1.1235 - val_acc: 0.8130\n",
      "Epoch 6/25\n",
      "8000/8000 [==============================] - 6419s - loss: 0.0374 - acc: 0.9873 - val_loss: 1.1834 - val_acc: 0.8064\n",
      "Epoch 7/25\n",
      "8000/8000 [==============================] - 3584s - loss: 0.0331 - acc: 0.9889 - val_loss: 1.1385 - val_acc: 0.8142\n",
      "Epoch 8/25\n",
      "8000/8000 [==============================] - 3517s - loss: 0.0290 - acc: 0.9903 - val_loss: 1.2282 - val_acc: 0.8052\n",
      "Epoch 9/25\n",
      "8000/8000 [==============================] - 3820s - loss: 0.0266 - acc: 0.9911 - val_loss: 1.1758 - val_acc: 0.8110\n",
      "Epoch 10/25\n",
      "8000/8000 [==============================] - 6761s - loss: 0.0246 - acc: 0.9918 - val_loss: 1.2300 - val_acc: 0.7952\n",
      "Epoch 11/25\n",
      "8000/8000 [==============================] - 3617s - loss: 0.0221 - acc: 0.9927 - val_loss: 1.2760 - val_acc: 0.7964\n",
      "Epoch 12/25\n",
      "8000/8000 [==============================] - 8317s - loss: 0.0214 - acc: 0.9931 - val_loss: 1.2473 - val_acc: 0.8006\n",
      "Epoch 13/25\n",
      "8000/8000 [==============================] - 5185s - loss: 0.0196 - acc: 0.9937 - val_loss: 1.2511 - val_acc: 0.8089\n",
      "Epoch 14/25\n",
      "8000/8000 [==============================] - 3318s - loss: 0.0178 - acc: 0.9942 - val_loss: 1.3240 - val_acc: 0.8147\n",
      "Epoch 15/25\n",
      "8000/8000 [==============================] - 3285s - loss: 0.0164 - acc: 0.9946 - val_loss: 1.4079 - val_acc: 0.7983\n",
      "Epoch 16/25\n",
      "8000/8000 [==============================] - 3272s - loss: 0.0172 - acc: 0.9944 - val_loss: 1.3099 - val_acc: 0.8125\n",
      "Epoch 17/25\n",
      "8000/8000 [==============================] - 3283s - loss: 0.0157 - acc: 0.9950 - val_loss: 1.2774 - val_acc: 0.8283\n",
      "Epoch 18/25\n",
      "8000/8000 [==============================] - 3282s - loss: 0.0146 - acc: 0.9953 - val_loss: 1.3579 - val_acc: 0.8162\n",
      "Epoch 19/25\n",
      "8000/8000 [==============================] - 3166s - loss: 0.0147 - acc: 0.9953 - val_loss: 1.3988 - val_acc: 0.8164\n",
      "Epoch 20/25\n",
      "8000/8000 [==============================] - 3042s - loss: 0.0144 - acc: 0.9956 - val_loss: 1.3714 - val_acc: 0.8090\n",
      "Epoch 21/25\n",
      "8000/8000 [==============================] - 3069s - loss: 0.0130 - acc: 0.9959 - val_loss: 1.3798 - val_acc: 0.8110\n",
      "Epoch 22/25\n",
      "8000/8000 [==============================] - 45357s - loss: 0.0128 - acc: 0.9961 - val_loss: 1.3472 - val_acc: 0.8221\n",
      "Epoch 23/25\n",
      "8000/8000 [==============================] - 3747s - loss: 0.0121 - acc: 0.9963 - val_loss: 1.4609 - val_acc: 0.8012\n",
      "Epoch 24/25\n",
      "8000/8000 [==============================] - 10023s - loss: 0.0121 - acc: 0.9962 - val_loss: 1.4267 - val_acc: 0.8012\n",
      "Epoch 25/25\n",
      "8000/8000 [==============================] - 70997s - loss: 0.0124 - acc: 0.9964 - val_loss: 1.4512 - val_acc: 0.8151\n"
     ]
    },
    {
     "data": {
      "text/plain": [
       "<keras.callbacks.History at 0x11deef630>"
      ]
     },
     "execution_count": 10,
     "metadata": {},
     "output_type": "execute_result"
    }
   ],
   "source": [
    "classifier.fit_generator(training_set,\n",
    "                         steps_per_epoch = 8000,\n",
    "                         epochs = 25,\n",
    "                         validation_data = test_set,\n",
    "                         validation_steps = 2000)"
   ]
  },
  {
   "cell_type": "code",
   "execution_count": 11,
   "metadata": {
    "collapsed": true
   },
   "outputs": [],
   "source": [
    "# Part 3 - Making new predictions\n",
    "\n",
    "import numpy as np\n",
    "from keras.preprocessing import image\n",
    "test_image = image.load_img('dataset/single_prediction/cat_or_dog_1.jpg', target_size = (64, 64))\n",
    "test_image = image.img_to_array(test_image)\n",
    "test_image = np.expand_dims(test_image, axis = 0)\n",
    "result = classifier.predict(test_image)\n",
    "training_set.class_indices\n",
    "if result[0][0] == 1:\n",
    "    prediction = 'dog'\n",
    "else:\n",
    "    prediction = 'cat'"
   ]
  },
  {
   "cell_type": "code",
   "execution_count": null,
   "metadata": {
    "collapsed": true
   },
   "outputs": [],
   "source": []
  }
 ],
 "metadata": {
  "kernelspec": {
   "display_name": "Python 3",
   "language": "python",
   "name": "python3"
  },
  "language_info": {
   "codemirror_mode": {
    "name": "ipython",
    "version": 3
   },
   "file_extension": ".py",
   "mimetype": "text/x-python",
   "name": "python",
   "nbconvert_exporter": "python",
   "pygments_lexer": "ipython3",
   "version": "3.6.1"
  }
 },
 "nbformat": 4,
 "nbformat_minor": 2
}
